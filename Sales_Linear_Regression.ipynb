{
  "cells": [
    {
      "cell_type": "markdown",
      "metadata": {
        "id": "view-in-github",
        "colab_type": "text"
      },
      "source": [
        "<a href=\"https://colab.research.google.com/github/pallavmarch/Regression-Analysis-Projects/blob/main/Sales_Linear_Regression.ipynb\" target=\"_parent\"><img src=\"https://colab.research.google.com/assets/colab-badge.svg\" alt=\"Open In Colab\"/></a>"
      ]
    },
    {
      "cell_type": "code",
      "execution_count": 1,
      "id": "6f4fb842-93f3-4626-8882-aade37ed2175",
      "metadata": {
        "id": "6f4fb842-93f3-4626-8882-aade37ed2175"
      },
      "outputs": [],
      "source": [
        "import pandas as pd\n",
        "pd.set_option('display.max_columns', None)\n",
        "import numpy as np\n",
        "import matplotlib.pyplot as plt\n",
        "import seaborn as sns\n",
        "from tabulate import tabulate\n",
        "import os\n",
        "\n",
        "import warnings\n",
        "warnings.filterwarnings(\"ignore\")\n",
        "\n",
        "from sklearn.model_selection import train_test_split\n",
        "from sklearn.preprocessing import StandardScaler\n",
        "from sklearn.metrics import accuracy_score\n",
        "\n",
        "from sklearn.metrics import mean_squared_error, mean_absolute_error, r2_score\n",
        "from sklearn.linear_model import LinearRegression, Lasso, Ridge\n",
        "from sklearn.ensemble import RandomForestRegressor\n",
        "from sklearn.svm import SVR\n",
        "from sklearn.ensemble import AdaBoostRegressor"
      ]
    },
    {
      "cell_type": "code",
      "source": [
        "!pip install kaggle\n",
        "\n",
        "!mkdir -p ~/.kaggle\n",
        "!cp kaggle.json ~/.kaggle/\n",
        "!chmod 600 ~/.kaggle/kaggle.json\n",
        "\n",
        "\n",
        "!kaggle datasets download -d ashydv/advertising-dataset --unzip -p ./\n",
        "import pandas as pd\n",
        "df = pd.read_csv(\"advertising.csv\")\n",
        "df.head()"
      ],
      "metadata": {
        "colab": {
          "base_uri": "https://localhost:8080/",
          "height": 553
        },
        "id": "bIgYU6HJ9uQ7",
        "outputId": "4b2ea217-294e-4f6a-d454-a61f14022597"
      },
      "id": "bIgYU6HJ9uQ7",
      "execution_count": 2,
      "outputs": [
        {
          "output_type": "stream",
          "name": "stdout",
          "text": [
            "Requirement already satisfied: kaggle in /usr/local/lib/python3.10/dist-packages (1.6.17)\n",
            "Requirement already satisfied: six>=1.10 in /usr/local/lib/python3.10/dist-packages (from kaggle) (1.16.0)\n",
            "Requirement already satisfied: certifi>=2023.7.22 in /usr/local/lib/python3.10/dist-packages (from kaggle) (2024.8.30)\n",
            "Requirement already satisfied: python-dateutil in /usr/local/lib/python3.10/dist-packages (from kaggle) (2.8.2)\n",
            "Requirement already satisfied: requests in /usr/local/lib/python3.10/dist-packages (from kaggle) (2.32.3)\n",
            "Requirement already satisfied: tqdm in /usr/local/lib/python3.10/dist-packages (from kaggle) (4.66.6)\n",
            "Requirement already satisfied: python-slugify in /usr/local/lib/python3.10/dist-packages (from kaggle) (8.0.4)\n",
            "Requirement already satisfied: urllib3 in /usr/local/lib/python3.10/dist-packages (from kaggle) (2.2.3)\n",
            "Requirement already satisfied: bleach in /usr/local/lib/python3.10/dist-packages (from kaggle) (6.2.0)\n",
            "Requirement already satisfied: webencodings in /usr/local/lib/python3.10/dist-packages (from bleach->kaggle) (0.5.1)\n",
            "Requirement already satisfied: text-unidecode>=1.3 in /usr/local/lib/python3.10/dist-packages (from python-slugify->kaggle) (1.3)\n",
            "Requirement already satisfied: charset-normalizer<4,>=2 in /usr/local/lib/python3.10/dist-packages (from requests->kaggle) (3.4.0)\n",
            "Requirement already satisfied: idna<4,>=2.5 in /usr/local/lib/python3.10/dist-packages (from requests->kaggle) (3.10)\n",
            "cp: cannot stat 'kaggle.json': No such file or directory\n",
            "chmod: cannot access '/root/.kaggle/kaggle.json': No such file or directory\n",
            "Dataset URL: https://www.kaggle.com/datasets/ashydv/advertising-dataset\n",
            "License(s): unknown\n",
            "Downloading advertising-dataset.zip to .\n",
            "  0% 0.00/1.83k [00:00<?, ?B/s]\n",
            "100% 1.83k/1.83k [00:00<00:00, 2.95MB/s]\n"
          ]
        },
        {
          "output_type": "execute_result",
          "data": {
            "text/plain": [
              "      TV  Radio  Newspaper  Sales\n",
              "0  230.1   37.8       69.2   22.1\n",
              "1   44.5   39.3       45.1   10.4\n",
              "2   17.2   45.9       69.3   12.0\n",
              "3  151.5   41.3       58.5   16.5\n",
              "4  180.8   10.8       58.4   17.9"
            ],
            "text/html": [
              "\n",
              "  <div id=\"df-ddd2ea66-fa9c-4b31-a2e7-690dfd4defc7\" class=\"colab-df-container\">\n",
              "    <div>\n",
              "<style scoped>\n",
              "    .dataframe tbody tr th:only-of-type {\n",
              "        vertical-align: middle;\n",
              "    }\n",
              "\n",
              "    .dataframe tbody tr th {\n",
              "        vertical-align: top;\n",
              "    }\n",
              "\n",
              "    .dataframe thead th {\n",
              "        text-align: right;\n",
              "    }\n",
              "</style>\n",
              "<table border=\"1\" class=\"dataframe\">\n",
              "  <thead>\n",
              "    <tr style=\"text-align: right;\">\n",
              "      <th></th>\n",
              "      <th>TV</th>\n",
              "      <th>Radio</th>\n",
              "      <th>Newspaper</th>\n",
              "      <th>Sales</th>\n",
              "    </tr>\n",
              "  </thead>\n",
              "  <tbody>\n",
              "    <tr>\n",
              "      <th>0</th>\n",
              "      <td>230.1</td>\n",
              "      <td>37.8</td>\n",
              "      <td>69.2</td>\n",
              "      <td>22.1</td>\n",
              "    </tr>\n",
              "    <tr>\n",
              "      <th>1</th>\n",
              "      <td>44.5</td>\n",
              "      <td>39.3</td>\n",
              "      <td>45.1</td>\n",
              "      <td>10.4</td>\n",
              "    </tr>\n",
              "    <tr>\n",
              "      <th>2</th>\n",
              "      <td>17.2</td>\n",
              "      <td>45.9</td>\n",
              "      <td>69.3</td>\n",
              "      <td>12.0</td>\n",
              "    </tr>\n",
              "    <tr>\n",
              "      <th>3</th>\n",
              "      <td>151.5</td>\n",
              "      <td>41.3</td>\n",
              "      <td>58.5</td>\n",
              "      <td>16.5</td>\n",
              "    </tr>\n",
              "    <tr>\n",
              "      <th>4</th>\n",
              "      <td>180.8</td>\n",
              "      <td>10.8</td>\n",
              "      <td>58.4</td>\n",
              "      <td>17.9</td>\n",
              "    </tr>\n",
              "  </tbody>\n",
              "</table>\n",
              "</div>\n",
              "    <div class=\"colab-df-buttons\">\n",
              "\n",
              "  <div class=\"colab-df-container\">\n",
              "    <button class=\"colab-df-convert\" onclick=\"convertToInteractive('df-ddd2ea66-fa9c-4b31-a2e7-690dfd4defc7')\"\n",
              "            title=\"Convert this dataframe to an interactive table.\"\n",
              "            style=\"display:none;\">\n",
              "\n",
              "  <svg xmlns=\"http://www.w3.org/2000/svg\" height=\"24px\" viewBox=\"0 -960 960 960\">\n",
              "    <path d=\"M120-120v-720h720v720H120Zm60-500h600v-160H180v160Zm220 220h160v-160H400v160Zm0 220h160v-160H400v160ZM180-400h160v-160H180v160Zm440 0h160v-160H620v160ZM180-180h160v-160H180v160Zm440 0h160v-160H620v160Z\"/>\n",
              "  </svg>\n",
              "    </button>\n",
              "\n",
              "  <style>\n",
              "    .colab-df-container {\n",
              "      display:flex;\n",
              "      gap: 12px;\n",
              "    }\n",
              "\n",
              "    .colab-df-convert {\n",
              "      background-color: #E8F0FE;\n",
              "      border: none;\n",
              "      border-radius: 50%;\n",
              "      cursor: pointer;\n",
              "      display: none;\n",
              "      fill: #1967D2;\n",
              "      height: 32px;\n",
              "      padding: 0 0 0 0;\n",
              "      width: 32px;\n",
              "    }\n",
              "\n",
              "    .colab-df-convert:hover {\n",
              "      background-color: #E2EBFA;\n",
              "      box-shadow: 0px 1px 2px rgba(60, 64, 67, 0.3), 0px 1px 3px 1px rgba(60, 64, 67, 0.15);\n",
              "      fill: #174EA6;\n",
              "    }\n",
              "\n",
              "    .colab-df-buttons div {\n",
              "      margin-bottom: 4px;\n",
              "    }\n",
              "\n",
              "    [theme=dark] .colab-df-convert {\n",
              "      background-color: #3B4455;\n",
              "      fill: #D2E3FC;\n",
              "    }\n",
              "\n",
              "    [theme=dark] .colab-df-convert:hover {\n",
              "      background-color: #434B5C;\n",
              "      box-shadow: 0px 1px 3px 1px rgba(0, 0, 0, 0.15);\n",
              "      filter: drop-shadow(0px 1px 2px rgba(0, 0, 0, 0.3));\n",
              "      fill: #FFFFFF;\n",
              "    }\n",
              "  </style>\n",
              "\n",
              "    <script>\n",
              "      const buttonEl =\n",
              "        document.querySelector('#df-ddd2ea66-fa9c-4b31-a2e7-690dfd4defc7 button.colab-df-convert');\n",
              "      buttonEl.style.display =\n",
              "        google.colab.kernel.accessAllowed ? 'block' : 'none';\n",
              "\n",
              "      async function convertToInteractive(key) {\n",
              "        const element = document.querySelector('#df-ddd2ea66-fa9c-4b31-a2e7-690dfd4defc7');\n",
              "        const dataTable =\n",
              "          await google.colab.kernel.invokeFunction('convertToInteractive',\n",
              "                                                    [key], {});\n",
              "        if (!dataTable) return;\n",
              "\n",
              "        const docLinkHtml = 'Like what you see? Visit the ' +\n",
              "          '<a target=\"_blank\" href=https://colab.research.google.com/notebooks/data_table.ipynb>data table notebook</a>'\n",
              "          + ' to learn more about interactive tables.';\n",
              "        element.innerHTML = '';\n",
              "        dataTable['output_type'] = 'display_data';\n",
              "        await google.colab.output.renderOutput(dataTable, element);\n",
              "        const docLink = document.createElement('div');\n",
              "        docLink.innerHTML = docLinkHtml;\n",
              "        element.appendChild(docLink);\n",
              "      }\n",
              "    </script>\n",
              "  </div>\n",
              "\n",
              "\n",
              "<div id=\"df-e467f51f-1946-439d-aab5-36732976d13c\">\n",
              "  <button class=\"colab-df-quickchart\" onclick=\"quickchart('df-e467f51f-1946-439d-aab5-36732976d13c')\"\n",
              "            title=\"Suggest charts\"\n",
              "            style=\"display:none;\">\n",
              "\n",
              "<svg xmlns=\"http://www.w3.org/2000/svg\" height=\"24px\"viewBox=\"0 0 24 24\"\n",
              "     width=\"24px\">\n",
              "    <g>\n",
              "        <path d=\"M19 3H5c-1.1 0-2 .9-2 2v14c0 1.1.9 2 2 2h14c1.1 0 2-.9 2-2V5c0-1.1-.9-2-2-2zM9 17H7v-7h2v7zm4 0h-2V7h2v10zm4 0h-2v-4h2v4z\"/>\n",
              "    </g>\n",
              "</svg>\n",
              "  </button>\n",
              "\n",
              "<style>\n",
              "  .colab-df-quickchart {\n",
              "      --bg-color: #E8F0FE;\n",
              "      --fill-color: #1967D2;\n",
              "      --hover-bg-color: #E2EBFA;\n",
              "      --hover-fill-color: #174EA6;\n",
              "      --disabled-fill-color: #AAA;\n",
              "      --disabled-bg-color: #DDD;\n",
              "  }\n",
              "\n",
              "  [theme=dark] .colab-df-quickchart {\n",
              "      --bg-color: #3B4455;\n",
              "      --fill-color: #D2E3FC;\n",
              "      --hover-bg-color: #434B5C;\n",
              "      --hover-fill-color: #FFFFFF;\n",
              "      --disabled-bg-color: #3B4455;\n",
              "      --disabled-fill-color: #666;\n",
              "  }\n",
              "\n",
              "  .colab-df-quickchart {\n",
              "    background-color: var(--bg-color);\n",
              "    border: none;\n",
              "    border-radius: 50%;\n",
              "    cursor: pointer;\n",
              "    display: none;\n",
              "    fill: var(--fill-color);\n",
              "    height: 32px;\n",
              "    padding: 0;\n",
              "    width: 32px;\n",
              "  }\n",
              "\n",
              "  .colab-df-quickchart:hover {\n",
              "    background-color: var(--hover-bg-color);\n",
              "    box-shadow: 0 1px 2px rgba(60, 64, 67, 0.3), 0 1px 3px 1px rgba(60, 64, 67, 0.15);\n",
              "    fill: var(--button-hover-fill-color);\n",
              "  }\n",
              "\n",
              "  .colab-df-quickchart-complete:disabled,\n",
              "  .colab-df-quickchart-complete:disabled:hover {\n",
              "    background-color: var(--disabled-bg-color);\n",
              "    fill: var(--disabled-fill-color);\n",
              "    box-shadow: none;\n",
              "  }\n",
              "\n",
              "  .colab-df-spinner {\n",
              "    border: 2px solid var(--fill-color);\n",
              "    border-color: transparent;\n",
              "    border-bottom-color: var(--fill-color);\n",
              "    animation:\n",
              "      spin 1s steps(1) infinite;\n",
              "  }\n",
              "\n",
              "  @keyframes spin {\n",
              "    0% {\n",
              "      border-color: transparent;\n",
              "      border-bottom-color: var(--fill-color);\n",
              "      border-left-color: var(--fill-color);\n",
              "    }\n",
              "    20% {\n",
              "      border-color: transparent;\n",
              "      border-left-color: var(--fill-color);\n",
              "      border-top-color: var(--fill-color);\n",
              "    }\n",
              "    30% {\n",
              "      border-color: transparent;\n",
              "      border-left-color: var(--fill-color);\n",
              "      border-top-color: var(--fill-color);\n",
              "      border-right-color: var(--fill-color);\n",
              "    }\n",
              "    40% {\n",
              "      border-color: transparent;\n",
              "      border-right-color: var(--fill-color);\n",
              "      border-top-color: var(--fill-color);\n",
              "    }\n",
              "    60% {\n",
              "      border-color: transparent;\n",
              "      border-right-color: var(--fill-color);\n",
              "    }\n",
              "    80% {\n",
              "      border-color: transparent;\n",
              "      border-right-color: var(--fill-color);\n",
              "      border-bottom-color: var(--fill-color);\n",
              "    }\n",
              "    90% {\n",
              "      border-color: transparent;\n",
              "      border-bottom-color: var(--fill-color);\n",
              "    }\n",
              "  }\n",
              "</style>\n",
              "\n",
              "  <script>\n",
              "    async function quickchart(key) {\n",
              "      const quickchartButtonEl =\n",
              "        document.querySelector('#' + key + ' button');\n",
              "      quickchartButtonEl.disabled = true;  // To prevent multiple clicks.\n",
              "      quickchartButtonEl.classList.add('colab-df-spinner');\n",
              "      try {\n",
              "        const charts = await google.colab.kernel.invokeFunction(\n",
              "            'suggestCharts', [key], {});\n",
              "      } catch (error) {\n",
              "        console.error('Error during call to suggestCharts:', error);\n",
              "      }\n",
              "      quickchartButtonEl.classList.remove('colab-df-spinner');\n",
              "      quickchartButtonEl.classList.add('colab-df-quickchart-complete');\n",
              "    }\n",
              "    (() => {\n",
              "      let quickchartButtonEl =\n",
              "        document.querySelector('#df-e467f51f-1946-439d-aab5-36732976d13c button');\n",
              "      quickchartButtonEl.style.display =\n",
              "        google.colab.kernel.accessAllowed ? 'block' : 'none';\n",
              "    })();\n",
              "  </script>\n",
              "</div>\n",
              "\n",
              "    </div>\n",
              "  </div>\n"
            ],
            "application/vnd.google.colaboratory.intrinsic+json": {
              "type": "dataframe",
              "variable_name": "df",
              "summary": "{\n  \"name\": \"df\",\n  \"rows\": 200,\n  \"fields\": [\n    {\n      \"column\": \"TV\",\n      \"properties\": {\n        \"dtype\": \"number\",\n        \"std\": 85.8542363149081,\n        \"min\": 0.7,\n        \"max\": 296.4,\n        \"num_unique_values\": 190,\n        \"samples\": [\n          287.6,\n          286.0,\n          78.2\n        ],\n        \"semantic_type\": \"\",\n        \"description\": \"\"\n      }\n    },\n    {\n      \"column\": \"Radio\",\n      \"properties\": {\n        \"dtype\": \"number\",\n        \"std\": 14.846809176168723,\n        \"min\": 0.0,\n        \"max\": 49.6,\n        \"num_unique_values\": 167,\n        \"samples\": [\n          8.2,\n          36.9,\n          44.5\n        ],\n        \"semantic_type\": \"\",\n        \"description\": \"\"\n      }\n    },\n    {\n      \"column\": \"Newspaper\",\n      \"properties\": {\n        \"dtype\": \"number\",\n        \"std\": 21.778620838522833,\n        \"min\": 0.3,\n        \"max\": 114.0,\n        \"num_unique_values\": 172,\n        \"samples\": [\n          22.3,\n          5.7,\n          17.0\n        ],\n        \"semantic_type\": \"\",\n        \"description\": \"\"\n      }\n    },\n    {\n      \"column\": \"Sales\",\n      \"properties\": {\n        \"dtype\": \"number\",\n        \"std\": 5.283892252561874,\n        \"min\": 1.6,\n        \"max\": 27.0,\n        \"num_unique_values\": 121,\n        \"samples\": [\n          19.8,\n          22.6,\n          17.9\n        ],\n        \"semantic_type\": \"\",\n        \"description\": \"\"\n      }\n    }\n  ]\n}"
            }
          },
          "metadata": {},
          "execution_count": 2
        }
      ]
    },
    {
      "cell_type": "markdown",
      "id": "04152b9d-5316-4679-ad6d-bb69b77b6234",
      "metadata": {
        "id": "04152b9d-5316-4679-ad6d-bb69b77b6234"
      },
      "source": [
        "# FUNCTIONS"
      ]
    },
    {
      "cell_type": "code",
      "execution_count": 13,
      "id": "1397f397-5cd2-40e3-bf4e-1fa46f0749c1",
      "metadata": {
        "id": "1397f397-5cd2-40e3-bf4e-1fa46f0749c1"
      },
      "outputs": [],
      "source": [
        "def datacheck(data):\n",
        "\n",
        "    table_data = []\n",
        "\n",
        "    for i in data.columns:\n",
        "      table_data.append([i, len(data[i].unique()), data[i].isna().sum(), data[i].dtypes])\n",
        "    print(tabulate(table_data, headers=[\"Column\", \"Total Unique Values\", \"Missing Values\",\"Data Type\"], tablefmt=\"fancy_grid\"))\n",
        "\n",
        "\n",
        "\n",
        "def pairplt(a,b,data):\n",
        "\n",
        "  plt.figure(figsize=(15,10))\n",
        "  sns.pairplot(data, x_vars=a, y_vars=b, height=3)\n",
        "  plt.show()\n",
        "\n",
        "  return\n",
        "\n",
        "\n",
        "\n",
        "def Correlaton(x):\n",
        "\n",
        "  sns.heatmap(x.corr(), annot=True)\n",
        "  plt.show()\n",
        "\n",
        "  return\n",
        "\n",
        "\n",
        "\n",
        "def mod(model,x_train_std, x_test_std, y_train, y_test):\n",
        "\n",
        "    color_code = \"\\033[31m\"   # Red\n",
        "    reset_code = \"\\033[0m\"    # default\n",
        "    color_yellow = \"\\033[33m\" #Yellow\n",
        "\n",
        "    print(f\"Model: {color_code}{model}{reset_code}\")\n",
        "\n",
        "    model.fit(x_train, y_train)\n",
        "    y_pred = model.predict(x_test)\n",
        "\n",
        "\n",
        "    mse = mean_squared_error(y_test, y_pred)\n",
        "    rmse = np.sqrt(mse)\n",
        "    mae = mean_absolute_error(y_test, y_pred)\n",
        "    r_squared = r2_score(y_test, y_pred)\n",
        "\n",
        "\n",
        "    print(f\"Mean Squared Error (MSE): {color_yellow}{mse:.2f}{reset_code}\")\n",
        "    print(f\"Root Mean Squared Error (RMSE): {color_yellow}{rmse:.2f}{reset_code}\")\n",
        "    print(f\"Mean Absolute Error (MAE): {color_yellow}{mae:.2f}{reset_code}\")\n",
        "    print(f\"R-squared (R²): {color_yellow}{r_squared:.2f}{reset_code}\")\n",
        "\n",
        "\n",
        "        # Check if model has intercept_ and coef_ attributes (for regression line plotting)\n",
        "    if hasattr(model, 'intercept_') and hasattr(model, 'coef_') and x_test.shape[1] == 1:\n",
        "        print(f\"{color_yellow}Plotting regression line...{reset_code}\")\n",
        "        plt.scatter(x_test, y_test, label='True values', alpha=0.7)\n",
        "        plt.plot(x_test, model.intercept_ + model.coef_[0] * x_test, 'r', label='Regression line')\n",
        "        plt.title(\"Regression Line\")\n",
        "        plt.xlabel(\"Feature\")\n",
        "        plt.ylabel(\"Target\")\n",
        "        plt.legend()\n",
        "        plt.show()\n",
        "\n",
        "    return\n",
        "\n",
        "\n",
        "\n",
        "def reg_graph(model,x,y):\n",
        "\n",
        "  plt.scatter(x, y)\n",
        "  plt.plot(x, model.intercept_ + model.coef_[0]*x, 'r')\n",
        "  plt.show()\n",
        "\n",
        "  return"
      ]
    },
    {
      "cell_type": "markdown",
      "id": "81b1c75b-ce26-4d23-b3fa-b3232da1f1ef",
      "metadata": {
        "jp-MarkdownHeadingCollapsed": true,
        "id": "81b1c75b-ce26-4d23-b3fa-b3232da1f1ef"
      },
      "source": [
        "# DATASET"
      ]
    },
    {
      "cell_type": "code",
      "execution_count": 4,
      "id": "8ef5a5c4-2ca0-423d-b7ac-74de0157cce5",
      "metadata": {
        "colab": {
          "base_uri": "https://localhost:8080/"
        },
        "id": "8ef5a5c4-2ca0-423d-b7ac-74de0157cce5",
        "outputId": "893b03eb-e55f-42ed-d323-00d213c1c89f"
      },
      "outputs": [
        {
          "output_type": "stream",
          "name": "stdout",
          "text": [
            "╒═══════════╤═══════════════════════╤══════════════════╤═════════════╕\n",
            "│ Column    │   Total Unique Values │   Missing Values │ Data Type   │\n",
            "╞═══════════╪═══════════════════════╪══════════════════╪═════════════╡\n",
            "│ TV        │                   190 │                0 │ float64     │\n",
            "├───────────┼───────────────────────┼──────────────────┼─────────────┤\n",
            "│ Radio     │                   167 │                0 │ float64     │\n",
            "├───────────┼───────────────────────┼──────────────────┼─────────────┤\n",
            "│ Newspaper │                   172 │                0 │ float64     │\n",
            "├───────────┼───────────────────────┼──────────────────┼─────────────┤\n",
            "│ Sales     │                   121 │                0 │ float64     │\n",
            "╘═══════════╧═══════════════════════╧══════════════════╧═════════════╛\n"
          ]
        }
      ],
      "source": [
        "datacheck(df)"
      ]
    },
    {
      "cell_type": "markdown",
      "id": "df789715-82f0-42d0-ac33-4eeb41411827",
      "metadata": {
        "id": "df789715-82f0-42d0-ac33-4eeb41411827"
      },
      "source": [
        "# Graphs"
      ]
    },
    {
      "cell_type": "code",
      "execution_count": 5,
      "id": "56db3e5b-6f01-48b1-8846-5169ac727f33",
      "metadata": {
        "colab": {
          "base_uri": "https://localhost:8080/",
          "height": 334
        },
        "id": "56db3e5b-6f01-48b1-8846-5169ac727f33",
        "outputId": "1186d17b-941a-4ef5-db42-4205a84039d8"
      },
      "outputs": [
        {
          "output_type": "display_data",
          "data": {
            "text/plain": [
              "<Figure size 1500x1000 with 0 Axes>"
            ]
          },
          "metadata": {}
        },
        {
          "output_type": "display_data",
          "data": {
            "text/plain": [
              "<Figure size 900x300 with 3 Axes>"
            ],
            "image/png": "[encoded data removed]"
          },
          "metadata": {}
        }
      ],
      "source": [
        "pairplt(['TV', 'Newspaper', 'Radio'],'Sales',df)"
      ]
    },
    {
      "cell_type": "code",
      "execution_count": 6,
      "id": "3f5184de-66de-4660-ab6d-736ef1d9e919",
      "metadata": {
        "colab": {
          "base_uri": "https://localhost:8080/",
          "height": 435
        },
        "id": "3f5184de-66de-4660-ab6d-736ef1d9e919",
        "outputId": "ad699116-8adf-4f37-ff03-cc3d91f09c0a"
      },
      "outputs": [
        {
          "output_type": "display_data",
          "data": {
            "text/plain": [
              "<Figure size 640x480 with 2 Axes>"
            ],
            "image/png": "[encoded data removed]"
          },
          "metadata": {}
        }
      ],
      "source": [
        "Correlaton(df)"
      ]
    },
    {
      "cell_type": "markdown",
      "id": "8e9d0708-6722-4d31-b550-4b96736493b1",
      "metadata": {
        "id": "8e9d0708-6722-4d31-b550-4b96736493b1"
      },
      "source": [
        "We find sales and TV as to be most correlated"
      ]
    },
    {
      "cell_type": "markdown",
      "id": "f7db3129-e28e-42f0-9c4a-bda424ca59d5",
      "metadata": {
        "id": "f7db3129-e28e-42f0-9c4a-bda424ca59d5"
      },
      "source": [
        "# Modelling"
      ]
    },
    {
      "cell_type": "code",
      "execution_count": 7,
      "id": "5f00e4d0-492b-4da0-a943-d1215762b40b",
      "metadata": {
        "scrolled": true,
        "id": "5f00e4d0-492b-4da0-a943-d1215762b40b"
      },
      "outputs": [],
      "source": [
        "X = df[['TV']]\n",
        "y = df['Sales']\n",
        "\n",
        "x_train, x_test, y_train, y_test = train_test_split(X,y, shuffle=True, test_size=0.2, random_state=99)\n",
        "\n",
        "scaler = StandardScaler()\n",
        "x_train_std = scaler.fit_transform(x_train)\n",
        "x_test_std = scaler.transform(x_test)"
      ]
    },
    {
      "cell_type": "code",
      "execution_count": 14,
      "id": "d2caf1ab-1b8d-44df-9c21-4b5dd5db708e",
      "metadata": {
        "colab": {
          "base_uri": "https://localhost:8080/",
          "height": 975
        },
        "id": "d2caf1ab-1b8d-44df-9c21-4b5dd5db708e",
        "outputId": "df59745e-d27f-4064-e792-051a50cb4306"
      },
      "outputs": [
        {
          "output_type": "stream",
          "name": "stdout",
          "text": [
            "\n",
            "--- Evaluating Linear Regression ---\n",
            "Model: \u001b[31mLinearRegression(n_jobs=-1)\u001b[0m\n",
            "Mean Squared Error (MSE): \u001b[33m4.04\u001b[0m\n",
            "Root Mean Squared Error (RMSE): \u001b[33m2.01\u001b[0m\n",
            "Mean Absolute Error (MAE): \u001b[33m1.63\u001b[0m\n",
            "R-squared (R²): \u001b[33m0.85\u001b[0m\n",
            "\u001b[33mPlotting regression line...\u001b[0m\n"
          ]
        },
        {
          "output_type": "display_data",
          "data": {
            "text/plain": [
              "<Figure size 640x480 with 1 Axes>"
            ],
            "image/png": "[encoded data removed]"
          },
          "metadata": {}
        },
        {
          "output_type": "stream",
          "name": "stdout",
          "text": [
            "\n",
            "--- Evaluating Random Forest ---\n",
            "Model: \u001b[31mRandomForestRegressor(n_jobs=-1, random_state=42)\u001b[0m\n",
            "Mean Squared Error (MSE): \u001b[33m7.08\u001b[0m\n",
            "Root Mean Squared Error (RMSE): \u001b[33m2.66\u001b[0m\n",
            "Mean Absolute Error (MAE): \u001b[33m2.07\u001b[0m\n",
            "R-squared (R²): \u001b[33m0.74\u001b[0m\n",
            "\n",
            "--- Evaluating Support Vector Regressor ---\n",
            "Model: \u001b[31mSVR()\u001b[0m\n",
            "Mean Squared Error (MSE): \u001b[33m5.09\u001b[0m\n",
            "Root Mean Squared Error (RMSE): \u001b[33m2.26\u001b[0m\n",
            "Mean Absolute Error (MAE): \u001b[33m1.76\u001b[0m\n",
            "R-squared (R²): \u001b[33m0.81\u001b[0m\n",
            "\n",
            "--- Evaluating AdaBoost Regressor ---\n",
            "Model: \u001b[31mAdaBoostRegressor(random_state=42)\u001b[0m\n",
            "Mean Squared Error (MSE): \u001b[33m5.38\u001b[0m\n",
            "Root Mean Squared Error (RMSE): \u001b[33m2.32\u001b[0m\n",
            "Mean Absolute Error (MAE): \u001b[33m1.85\u001b[0m\n",
            "R-squared (R²): \u001b[33m0.80\u001b[0m\n"
          ]
        }
      ],
      "source": [
        "models = {\n",
        "    \"Linear Regression\": LinearRegression(fit_intercept=True, copy_X=True, n_jobs=-1),\n",
        "    \"Random Forest\": RandomForestRegressor(n_estimators=100, max_depth=None, min_samples_split=2, min_samples_leaf=1, random_state=42, n_jobs=-1),\n",
        "    \"Support Vector Regressor\": SVR(kernel='rbf', degree=3, C=1.0, epsilon=0.1, gamma='scale'),\n",
        "    \"AdaBoost Regressor\": AdaBoostRegressor( n_estimators=50, learning_rate=1.0, loss='linear', random_state=42)\n",
        "}\n",
        "\n",
        "\n",
        "\n",
        "for model_name, model in models.items():\n",
        "    print(f\"\\n--- Evaluating {model_name} ---\")\n",
        "    mod(model, x_train_std, x_test_std, y_train, y_test)"
      ]
    }
  ],
  "metadata": {
    "kernelspec": {
      "display_name": "Python 3 (ipykernel)",
      "language": "python",
      "name": "python3"
    },
    "language_info": {
      "codemirror_mode": {
        "name": "ipython",
        "version": 3
      },
      "file_extension": ".py",
      "mimetype": "text/x-python",
      "name": "python",
      "nbconvert_exporter": "python",
      "pygments_lexer": "ipython3",
      "version": "3.12.2"
    },
    "colab": {
      "provenance": [],
      "include_colab_link": true
    }
  },
  "nbformat": 4,
  "nbformat_minor": 5
}